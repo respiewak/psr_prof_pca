{
 "cells": [
  {
   "cell_type": "markdown",
   "id": "75d69ca2-d626-4962-b01e-c41fa3a1995f",
   "metadata": {},
   "source": [
    "This notebook is a work in progress, a first attempt to combine the eigenvalue GPs with nu-dot measurements to find correlations. \n"
   ]
  },
  {
   "cell_type": "code",
   "execution_count": 1,
   "id": "c44f5c1b-3db0-45a3-9d14-23c1382a8288",
   "metadata": {},
   "outputs": [],
   "source": [
    "%load_ext autoreload\n"
   ]
  },
  {
   "cell_type": "code",
   "execution_count": 2,
   "id": "919af45a-5bbc-4210-88fa-9487d518fa9e",
   "metadata": {},
   "outputs": [],
   "source": [
    "import os\n",
    "import numpy as np\n",
    "from matplotlib import pyplot as plt\n",
    "import cmasher as cmr\n",
    "from all_prof_functions import (run_each_gp, plot_recon_profs)\n",
    "\n",
    "%aimport -os -np -plt -cmr -mpr -corner\n",
    "%autoreload 2\n"
   ]
  },
  {
   "cell_type": "code",
   "execution_count": null,
   "id": "0b7dcc3c-cb60-4130-9410-13f92aaf2db9",
   "metadata": {},
   "outputs": [],
   "source": [
    "# Set up some plotting stuff\n",
    "plt.rc('savefig', bbox='tight')\n",
    "use_bk_bgd = True #### Change this to use white backgrounds for plots  #####\n",
    "if use_bk_bgd:\n",
    "    plot_style = 'dark_background'\n",
    "    # The CMasher package provides lots of lovely colour maps; chroma is a handy sequential cmap\n",
    "    cmap = cmr.chroma_r\n",
    "    c1 = cmap(0.0)\n",
    "    c2 = cmap(0.1)\n",
    "    c3 = cmap(0.33)\n",
    "    c4 = cmap(0.55)\n",
    "    c5 = cmap(0.68)\n",
    "    c6 = cmap(0.815)\n",
    "\n",
    "else:\n",
    "    plot_style = 'default'\n",
    "    cmap = cmr.chroma\n",
    "    c1 = cmap(0.0)\n",
    "    c2 = cmap(0.3)\n",
    "    c3 = cmap(0.53)\n",
    "    c4 = cmap(0.65)\n",
    "    c5 = cmap(0.78)\n",
    "    c6 = cmap(0.915)\n"
   ]
  },
  {
   "cell_type": "markdown",
   "id": "4bfa8fa1-f858-4f69-be8d-8ef0aaf2bf17",
   "metadata": {},
   "source": [
    "The following cell initialises some key variables, defining the dataset you're working on and where the data are located. Change the parameters noted below. \n"
   ]
  },
  {
   "cell_type": "code",
   "execution_count": null,
   "id": "963bb71f-1125-4f8b-9f50-235c7cceeb12",
   "metadata": {},
   "outputs": [],
   "source": [
    "data_dir = '/home/s86932rs/research/nudot_stuff/' # change this to the absolute/relative path to your data and .npz files\n",
    "plots_dir = os.path.join(data_dir, 'plots') # change this if necessary\n",
    "psr = 'J2043+2740' # change to your pulsar name\n",
    "freq = 1400 # change to your frequency band\n",
    "be = 'dfb' # change this to your backend\n"
   ]
  },
  {
   "cell_type": "code",
   "execution_count": null,
   "id": "527c1c44-9170-4217-ac5f-c119a79e99e2",
   "metadata": {},
   "outputs": [],
   "source": [
    "be = be.lower()\n",
    "BE = be.upper()\n",
    "npz_file = os.path.join(data_dir, psr+'_{}_gps_fin.npz'.format(freq)) # contains BE_mjds_pred, BE_res_pred, BE_vars_pred\n",
    "if not os.path.exists(npz_file):\n",
    "    raise(RuntimeError(\"File containing eigenvalue GPs does not exist\"))\n",
    "    \n",
    "nudot_file = os.path.join(data_dir, psr+\"_nudot_gp.txt\")\n",
    "if not os.path.exists(nudot_file):\n",
    "    raise(RuntimeError(\"File containing nu-dot GPs does not exist\"))\n"
   ]
  },
  {
   "cell_type": "code",
   "execution_count": null,
   "id": "02cde664-a8fe-4c23-9523-c6988bdf6139",
   "metadata": {},
   "outputs": [],
   "source": []
  }
 ],
 "metadata": {
  "kernelspec": {
   "display_name": "Python 3 (ipykernel)",
   "language": "python",
   "name": "python3"
  },
  "language_info": {
   "codemirror_mode": {
    "name": "ipython",
    "version": 3
   },
   "file_extension": ".py",
   "mimetype": "text/x-python",
   "name": "python",
   "nbconvert_exporter": "python",
   "pygments_lexer": "ipython3",
   "version": "3.10.8"
  }
 },
 "nbformat": 4,
 "nbformat_minor": 5
}
